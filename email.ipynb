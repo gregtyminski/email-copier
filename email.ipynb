{
 "cells": [
  {
   "cell_type": "code",
   "execution_count": 1,
   "id": "bbe2557c",
   "metadata": {},
   "outputs": [],
   "source": [
    "import imaplib\n",
    "import email\n",
    "import time\n",
    "import datetime\n",
    "\n",
    "from email.message import EmailMessage"
   ]
  },
  {
   "cell_type": "code",
   "execution_count": 2,
   "id": "8617403d",
   "metadata": {},
   "outputs": [],
   "source": [
    "mailbox1_credentials = ('source@gt-soft.eu', 'xxx', 'h301.calserver.eu')"
   ]
  },
  {
   "cell_type": "code",
   "execution_count": 3,
   "id": "bc342edc",
   "metadata": {},
   "outputs": [],
   "source": [
    "mailbox2_credentials = ('destination@gt-soft.eu', 'xxx#@!', 'imap.zenbox.pl')"
   ]
  },
  {
   "cell_type": "code",
   "execution_count": 4,
   "id": "41474812",
   "metadata": {},
   "outputs": [
    {
     "data": {
      "text/plain": [
       "('OK', [b'Logged in'])"
      ]
     },
     "execution_count": 4,
     "metadata": {},
     "output_type": "execute_result"
    }
   ],
   "source": [
    "mailbox1 = imaplib.IMAP4_SSL(mailbox1_credentials[2])\n",
    "mailbox1.login(mailbox1_credentials[0], mailbox1_credentials[1])"
   ]
  },
  {
   "cell_type": "code",
   "execution_count": 5,
   "id": "1e2bdca0",
   "metadata": {},
   "outputs": [
    {
     "data": {
      "text/plain": [
       "('OK', [b'Logged in'])"
      ]
     },
     "execution_count": 5,
     "metadata": {},
     "output_type": "execute_result"
    }
   ],
   "source": [
    "mailbox2 = imaplib.IMAP4_SSL(mailbox2_credentials[2])\n",
    "mailbox2.login(mailbox2_credentials[0], mailbox2_credentials[1])"
   ]
  },
  {
   "cell_type": "code",
   "execution_count": 6,
   "id": "173cebf2",
   "metadata": {},
   "outputs": [],
   "source": [
    "mailbox1_folders = mailbox1.list()[1]\n",
    "mailbox2_folders = mailbox2.list()[1]"
   ]
  },
  {
   "cell_type": "code",
   "execution_count": 7,
   "id": "9c019bcd",
   "metadata": {},
   "outputs": [],
   "source": [
    "def print_folder_structure(mailbox, prefix=''):\n",
    "    _, folders = mailbox.list('\"{0}\"'.format(prefix))\n",
    "    for folder in folders:\n",
    "        folder_name = folder.decode().split(' \".\" ')[-1].strip('\"')\n",
    "        print(prefix + folder_name)\n",
    "        if '\\\\HasChildren' in folder.decode():\n",
    "            print_folder_structure(mailbox, prefix=prefix + folder_name + '.')\n"
   ]
  },
  {
   "cell_type": "code",
   "execution_count": 8,
   "id": "9efe1632",
   "metadata": {},
   "outputs": [
    {
     "name": "stdout",
     "output_type": "stream",
     "text": [
      "Junk\n",
      "Trash\n",
      "Spam\n",
      "Archive\n",
      "INBOX.spam\n",
      "INBOX.Drafts\n",
      "INBOX.Sent\n",
      "INBOX.Trash\n",
      "Drafts\n",
      "Sent\n",
      "INBOX\n",
      "INBOX.INBOX.spam\n",
      "INBOX.INBOX.Drafts\n",
      "INBOX.INBOX.Sent\n",
      "INBOX.INBOX.Trash\n"
     ]
    }
   ],
   "source": [
    "print_folder_structure(mailbox1)"
   ]
  },
  {
   "cell_type": "code",
   "execution_count": 9,
   "id": "28092b7e",
   "metadata": {},
   "outputs": [
    {
     "name": "stdout",
     "output_type": "stream",
     "text": [
      "Archive\n",
      "Spam\n",
      "Sent\n",
      "Drafts\n",
      "Junk\n",
      "INBOX.Trash\n",
      "INBOX.Sent\n",
      "INBOX.Drafts\n",
      "INBOX.spam\n",
      "Trash\n",
      "INBOX\n",
      "INBOX.INBOX.Trash\n",
      "INBOX.INBOX.Sent\n",
      "INBOX.INBOX.Drafts\n",
      "INBOX.INBOX.spam\n"
     ]
    }
   ],
   "source": [
    "print_folder_structure(mailbox2)"
   ]
  },
  {
   "cell_type": "code",
   "execution_count": 10,
   "id": "355d1fc6",
   "metadata": {},
   "outputs": [],
   "source": [
    "from email.header import decode_header\n",
    "\n",
    "def clean_header_value(header_value):\n",
    "    if isinstance(header_value, str):\n",
    "        if '=?' in header_value:\n",
    "            decoded_header = decode_header(header_value)\n",
    "            return ''.join([str(t[0], t[1] or 'ascii') for t in decoded_header])\n",
    "        else:\n",
    "            # Remove newlines and tabs\n",
    "            header_value = re.sub(r'[\\n\\t]', '', header_value)\n",
    "\n",
    "            # Handle incomplete email addresses\n",
    "            if '@' in header_value and '.' not in header_value:\n",
    "                header_value += '.invalid'\n",
    "\n",
    "            return header_value\n",
    "    else:\n",
    "        return header_value\n"
   ]
  },
  {
   "cell_type": "code",
   "execution_count": 11,
   "id": "1c583f43",
   "metadata": {},
   "outputs": [],
   "source": [
    "def transfer_emails(src_mailbox, dest_mailbox, folder_name):\n",
    "    # Select the source folder\n",
    "    src_mailbox.select(folder_name)\n",
    "\n",
    "    # Fetch all emails from the source folder\n",
    "    typ, data = src_mailbox.search(None, 'ALL')\n",
    "    \n",
    "    email_count = 0\n",
    "\n",
    "    # Iterate over email UIDs\n",
    "    for num in data[0].split():\n",
    "        try:\n",
    "            typ, msg_data = src_mailbox.fetch(num, '(RFC822)')\n",
    "            msg = email.message_from_bytes(msg_data[0][1])\n",
    "\n",
    "            # Extract the original date from the email\n",
    "            date_tuple = email.utils.parsedate_tz(msg['date'])\n",
    "            if date_tuple:\n",
    "                local_date = datetime.datetime.fromtimestamp(email.utils.mktime_tz(date_tuple))\n",
    "                internal_date = imaplib.Time2Internaldate(local_date.timestamp())\n",
    "            else:\n",
    "                internal_date = imaplib.Time2Internaldate(time.time())\n",
    "\n",
    "            dest_mailbox.append(folder_name, '', internal_date, msg.as_bytes())\n",
    "            email_count = email_count+1\n",
    "            #print(f'Transferred email UID {num} from \"{folder_name}\"')\n",
    "        except Exception as e:\n",
    "            print(f'Error transferring email UID {num} from \"{folder_name}\": {e}')\n",
    "\n",
    "    print(f'Transferred {email_count} emails from \"{folder_name}\"')\n"
   ]
  },
  {
   "cell_type": "code",
   "execution_count": 12,
   "id": "f023f556",
   "metadata": {},
   "outputs": [],
   "source": [
    "def create_folder(mailbox, folder_name):\n",
    "    status, response = mailbox.create(folder_name)\n",
    "    if status == 'OK':\n",
    "        print(f'Successfully created folder \"{folder_name}\" in the destination mailbox.')\n",
    "        return True\n",
    "    elif b'[ALREADYEXISTS]' in response[0]:\n",
    "        print(f'Folder \"{folder_name}\" already exists in the destination mailbox.')\n",
    "        return True\n",
    "    else:\n",
    "        print(f'Failed to create folder \"{folder_name}\" in the destination mailbox. Response: {response}')\n",
    "        return False\n"
   ]
  },
  {
   "cell_type": "code",
   "execution_count": 13,
   "id": "b227e886",
   "metadata": {},
   "outputs": [],
   "source": [
    "def folder_exists(mailbox, folder_name):\n",
    "    status, response = mailbox.select(folder_name, readonly=True)\n",
    "    if status == 'OK':\n",
    "        return True\n",
    "    else:\n",
    "        return False\n"
   ]
  },
  {
   "cell_type": "code",
   "execution_count": 14,
   "id": "5863a115",
   "metadata": {},
   "outputs": [],
   "source": [
    "def find_next_folder(mailbox, parent_folder=None):\n",
    "    if parent_folder is not None:\n",
    "        search_pattern = f\"{parent_folder}.*\"\n",
    "    else:\n",
    "        search_pattern = \"*\"\n",
    "\n",
    "    typ, data = mailbox.list(directory=parent_folder, pattern=search_pattern)\n",
    "    for item in data:\n",
    "        if item:\n",
    "            folder_name = item.decode().split(' ')[-1].strip('\"')\n",
    "            if folder_name not in processed_folders:\n",
    "                return folder_name\n",
    "    return None\n"
   ]
  },
  {
   "cell_type": "code",
   "execution_count": 15,
   "id": "3ef5079f",
   "metadata": {},
   "outputs": [],
   "source": [
    "processed_folders = set()\n",
    "\n",
    "def process_folder(src_mailbox, dest_mailbox, folder, parent_folder=None):\n",
    "    # Clean up the folder name\n",
    "    full_folder_name = folder.decode().split(' ')[-1].strip('\"')\n",
    "    if parent_folder is not None:\n",
    "        full_folder_name = f\"{parent_folder}.{full_folder_name}\"\n",
    "\n",
    "    print(f\"Processing folder '{full_folder_name}'\")\n",
    "\n",
    "    # Create the folder in the destination mailbox\n",
    "    created = create_folder(dest_mailbox, full_folder_name)\n",
    "    if not created:\n",
    "        return\n",
    "\n",
    "    # Transfer emails from source to destination mailbox\n",
    "    transfer_emails(src_mailbox, dest_mailbox, full_folder_name)\n",
    "\n",
    "    processed_folders.add(full_folder_name)\n",
    "\n",
    "    # Process child folders\n",
    "    child_folder = find_next_folder(src_mailbox, full_folder_name)\n",
    "    if child_folder is not None:\n",
    "        child_folder_name = child_folder.decode().split(' ')[-1].strip('\"')\n",
    "        process_folder(src_mailbox, dest_mailbox, child_folder_name, full_folder_name)\n"
   ]
  },
  {
   "cell_type": "code",
   "execution_count": 16,
   "id": "058112d7",
   "metadata": {},
   "outputs": [
    {
     "name": "stdout",
     "output_type": "stream",
     "text": [
      "Processing folder 'Junk'\n",
      "Folder \"Junk\" already exists in the destination mailbox.\n",
      "Transferred 0 emails from \"Junk\"\n",
      "Processing folder 'Trash'\n",
      "Folder \"Trash\" already exists in the destination mailbox.\n",
      "Transferred 2807 emails from \"Trash\"\n",
      "Processing folder 'Spam'\n",
      "Folder \"Spam\" already exists in the destination mailbox.\n",
      "Transferred 0 emails from \"Spam\"\n",
      "Processing folder 'Archive'\n",
      "Folder \"Archive\" already exists in the destination mailbox.\n",
      "Transferred 2 emails from \"Archive\"\n",
      "Processing folder 'INBOX.spam'\n",
      "Folder \"INBOX.spam\" already exists in the destination mailbox.\n",
      "Transferred 0 emails from \"INBOX.spam\"\n",
      "Processing folder 'INBOX.Drafts'\n",
      "Folder \"INBOX.Drafts\" already exists in the destination mailbox.\n",
      "Transferred 0 emails from \"INBOX.Drafts\"\n",
      "Processing folder 'INBOX.Sent'\n",
      "Folder \"INBOX.Sent\" already exists in the destination mailbox.\n",
      "Transferred 359 emails from \"INBOX.Sent\"\n",
      "Processing folder 'INBOX.Trash'\n",
      "Folder \"INBOX.Trash\" already exists in the destination mailbox.\n",
      "Transferred 2143 emails from \"INBOX.Trash\"\n",
      "Processing folder 'Drafts'\n",
      "Folder \"Drafts\" already exists in the destination mailbox.\n",
      "Transferred 26 emails from \"Drafts\"\n",
      "Processing folder 'Sent'\n",
      "Folder \"Sent\" already exists in the destination mailbox.\n",
      "Transferred 671 emails from \"Sent\"\n",
      "Processing folder 'INBOX'\n",
      "Folder \"INBOX\" already exists in the destination mailbox.\n",
      "Transferred 8661 emails from \"INBOX\"\n"
     ]
    }
   ],
   "source": [
    "for folder in mailbox1_folders:\n",
    "    process_folder(mailbox1, mailbox2, folder)"
   ]
  },
  {
   "cell_type": "code",
   "execution_count": null,
   "id": "3e3dc8a8",
   "metadata": {},
   "outputs": [],
   "source": []
  },
  {
   "cell_type": "code",
   "execution_count": 17,
   "id": "9a560fe7",
   "metadata": {},
   "outputs": [
    {
     "data": {
      "text/plain": [
       "('BYE', [b'Logging out'])"
      ]
     },
     "execution_count": 17,
     "metadata": {},
     "output_type": "execute_result"
    }
   ],
   "source": [
    "# Clean up\n",
    "mailbox1.logout()"
   ]
  },
  {
   "cell_type": "code",
   "execution_count": 18,
   "id": "6a6bc46a",
   "metadata": {},
   "outputs": [
    {
     "data": {
      "text/plain": [
       "('BYE', [b'Logging out'])"
      ]
     },
     "execution_count": 18,
     "metadata": {},
     "output_type": "execute_result"
    }
   ],
   "source": [
    "# Clean up\n",
    "mailbox2.logout()"
   ]
  },
  {
   "cell_type": "code",
   "execution_count": null,
   "id": "c000754c",
   "metadata": {},
   "outputs": [],
   "source": []
  }
 ],
 "metadata": {
  "kernelspec": {
   "display_name": "Python 3 (ipykernel)",
   "language": "python",
   "name": "python3"
  },
  "language_info": {
   "codemirror_mode": {
    "name": "ipython",
    "version": 3
   },
   "file_extension": ".py",
   "mimetype": "text/x-python",
   "name": "python",
   "nbconvert_exporter": "python",
   "pygments_lexer": "ipython3",
   "version": "3.8.16"
  }
 },
 "nbformat": 4,
 "nbformat_minor": 5
}
