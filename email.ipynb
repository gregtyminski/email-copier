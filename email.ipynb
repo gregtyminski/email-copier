{
 "cells": [
  {
   "cell_type": "code",
   "execution_count": 35,
   "id": "bbe2557c",
   "metadata": {},
   "outputs": [],
   "source": [
    "import imaplib\n",
    "import email\n",
    "import time\n",
    "\n",
    "from email.message import EmailMessage"
   ]
  },
  {
   "cell_type": "code",
   "execution_count": 2,
   "id": "8617403d",
   "metadata": {},
   "outputs": [],
   "source": [
    "mailbox1_credentials = ('source@gt-soft.eu', 'xxx', 'server.eu')"
   ]
  },
  {
   "cell_type": "code",
   "execution_count": 3,
   "id": "bc342edc",
   "metadata": {},
   "outputs": [],
   "source": [
    "mailbox2_credentials = ('destination@gt-soft.eu', 'xxx#@!', 'server.pl')"
   ]
  },
  {
   "cell_type": "code",
   "execution_count": 4,
   "id": "41474812",
   "metadata": {},
   "outputs": [
    {
     "data": {
      "text/plain": [
       "('OK', [b'Logged in'])"
      ]
     },
     "execution_count": 4,
     "metadata": {},
     "output_type": "execute_result"
    }
   ],
   "source": [
    "mailbox1 = imaplib.IMAP4_SSL(mailbox1_credentials[2])\n",
    "mailbox1.login(mailbox1_credentials[0], mailbox1_credentials[1])"
   ]
  },
  {
   "cell_type": "code",
   "execution_count": 5,
   "id": "1e2bdca0",
   "metadata": {},
   "outputs": [
    {
     "data": {
      "text/plain": [
       "('OK', [b'Logged in'])"
      ]
     },
     "execution_count": 5,
     "metadata": {},
     "output_type": "execute_result"
    }
   ],
   "source": [
    "mailbox2 = imaplib.IMAP4_SSL(mailbox2_credentials[2])\n",
    "mailbox2.login(mailbox2_credentials[0], mailbox2_credentials[1])"
   ]
  },
  {
   "cell_type": "code",
   "execution_count": 6,
   "id": "173cebf2",
   "metadata": {},
   "outputs": [],
   "source": [
    "mailbox1_folders = mailbox1.list()[1]\n",
    "mailbox2_folders = mailbox2.list()[1]"
   ]
  },
  {
   "cell_type": "code",
   "execution_count": 7,
   "id": "9c019bcd",
   "metadata": {},
   "outputs": [],
   "source": [
    "def print_folder_structure(mailbox, prefix=''):\n",
    "    _, folders = mailbox.list('\"{0}\"'.format(prefix))\n",
    "    for folder in folders:\n",
    "        folder_name = folder.decode().split(' \".\" ')[-1].strip('\"')\n",
    "        print(prefix + folder_name)\n",
    "        if '\\\\HasChildren' in folder.decode():\n",
    "            print_folder_structure(mailbox, prefix=prefix + folder_name + '.')\n"
   ]
  },
  {
   "cell_type": "code",
   "execution_count": 8,
   "id": "9efe1632",
   "metadata": {},
   "outputs": [
    {
     "name": "stdout",
     "output_type": "stream",
     "text": [
      "Junk\n",
      "Accounts\n",
      "Accounts.Accounts.NVIDIA\n",
      "Accounts.Accounts.Renault\n",
      "Accounts.NVIDIA\n",
      "Accounts.Renault\n",
      "Trash\n",
      "INBOX.spam\n",
      "INBOX.Drafts\n",
      "INBOX.Sent\n",
      "INBOX.Trash\n",
      "Drafts\n",
      "Sent\n",
      "INBOX\n",
      "INBOX.INBOX.spam\n",
      "INBOX.INBOX.Drafts\n",
      "INBOX.INBOX.Sent\n",
      "INBOX.INBOX.Trash\n"
     ]
    }
   ],
   "source": [
    "print_folder_structure(mailbox1)"
   ]
  },
  {
   "cell_type": "code",
   "execution_count": 9,
   "id": "28092b7e",
   "metadata": {},
   "outputs": [
    {
     "name": "stdout",
     "output_type": "stream",
     "text": [
      "Sent\n",
      "Drafts\n",
      "Trash\n",
      "INBOX.Trash\n",
      "INBOX.Sent\n",
      "INBOX.Drafts\n",
      "INBOX.spam\n",
      "Accounts\n",
      "Accounts.Accounts.Accounts\n"
     ]
    },
    {
     "ename": "AttributeError",
     "evalue": "'NoneType' object has no attribute 'decode'",
     "output_type": "error",
     "traceback": [
      "\u001b[1;31m---------------------------------------------------------------------------\u001b[0m",
      "\u001b[1;31mAttributeError\u001b[0m                            Traceback (most recent call last)",
      "Cell \u001b[1;32mIn[9], line 1\u001b[0m\n\u001b[1;32m----> 1\u001b[0m \u001b[43mprint_folder_structure\u001b[49m\u001b[43m(\u001b[49m\u001b[43mmailbox2\u001b[49m\u001b[43m)\u001b[49m\n",
      "Cell \u001b[1;32mIn[7], line 7\u001b[0m, in \u001b[0;36mprint_folder_structure\u001b[1;34m(mailbox, prefix)\u001b[0m\n\u001b[0;32m      5\u001b[0m \u001b[38;5;28mprint\u001b[39m(prefix \u001b[38;5;241m+\u001b[39m folder_name)\n\u001b[0;32m      6\u001b[0m \u001b[38;5;28;01mif\u001b[39;00m \u001b[38;5;124m'\u001b[39m\u001b[38;5;130;01m\\\\\u001b[39;00m\u001b[38;5;124mHasChildren\u001b[39m\u001b[38;5;124m'\u001b[39m \u001b[38;5;129;01min\u001b[39;00m folder\u001b[38;5;241m.\u001b[39mdecode():\n\u001b[1;32m----> 7\u001b[0m     \u001b[43mprint_folder_structure\u001b[49m\u001b[43m(\u001b[49m\u001b[43mmailbox\u001b[49m\u001b[43m,\u001b[49m\u001b[43m \u001b[49m\u001b[43mprefix\u001b[49m\u001b[38;5;241;43m=\u001b[39;49m\u001b[43mprefix\u001b[49m\u001b[43m \u001b[49m\u001b[38;5;241;43m+\u001b[39;49m\u001b[43m \u001b[49m\u001b[43mfolder_name\u001b[49m\u001b[43m \u001b[49m\u001b[38;5;241;43m+\u001b[39;49m\u001b[43m \u001b[49m\u001b[38;5;124;43m'\u001b[39;49m\u001b[38;5;124;43m.\u001b[39;49m\u001b[38;5;124;43m'\u001b[39;49m\u001b[43m)\u001b[49m\n",
      "Cell \u001b[1;32mIn[7], line 7\u001b[0m, in \u001b[0;36mprint_folder_structure\u001b[1;34m(mailbox, prefix)\u001b[0m\n\u001b[0;32m      5\u001b[0m \u001b[38;5;28mprint\u001b[39m(prefix \u001b[38;5;241m+\u001b[39m folder_name)\n\u001b[0;32m      6\u001b[0m \u001b[38;5;28;01mif\u001b[39;00m \u001b[38;5;124m'\u001b[39m\u001b[38;5;130;01m\\\\\u001b[39;00m\u001b[38;5;124mHasChildren\u001b[39m\u001b[38;5;124m'\u001b[39m \u001b[38;5;129;01min\u001b[39;00m folder\u001b[38;5;241m.\u001b[39mdecode():\n\u001b[1;32m----> 7\u001b[0m     \u001b[43mprint_folder_structure\u001b[49m\u001b[43m(\u001b[49m\u001b[43mmailbox\u001b[49m\u001b[43m,\u001b[49m\u001b[43m \u001b[49m\u001b[43mprefix\u001b[49m\u001b[38;5;241;43m=\u001b[39;49m\u001b[43mprefix\u001b[49m\u001b[43m \u001b[49m\u001b[38;5;241;43m+\u001b[39;49m\u001b[43m \u001b[49m\u001b[43mfolder_name\u001b[49m\u001b[43m \u001b[49m\u001b[38;5;241;43m+\u001b[39;49m\u001b[43m \u001b[49m\u001b[38;5;124;43m'\u001b[39;49m\u001b[38;5;124;43m.\u001b[39;49m\u001b[38;5;124;43m'\u001b[39;49m\u001b[43m)\u001b[49m\n",
      "Cell \u001b[1;32mIn[7], line 4\u001b[0m, in \u001b[0;36mprint_folder_structure\u001b[1;34m(mailbox, prefix)\u001b[0m\n\u001b[0;32m      2\u001b[0m _, folders \u001b[38;5;241m=\u001b[39m mailbox\u001b[38;5;241m.\u001b[39mlist(\u001b[38;5;124m'\u001b[39m\u001b[38;5;124m\"\u001b[39m\u001b[38;5;132;01m{0}\u001b[39;00m\u001b[38;5;124m\"\u001b[39m\u001b[38;5;124m'\u001b[39m\u001b[38;5;241m.\u001b[39mformat(prefix))\n\u001b[0;32m      3\u001b[0m \u001b[38;5;28;01mfor\u001b[39;00m folder \u001b[38;5;129;01min\u001b[39;00m folders:\n\u001b[1;32m----> 4\u001b[0m     folder_name \u001b[38;5;241m=\u001b[39m \u001b[43mfolder\u001b[49m\u001b[38;5;241;43m.\u001b[39;49m\u001b[43mdecode\u001b[49m()\u001b[38;5;241m.\u001b[39msplit(\u001b[38;5;124m'\u001b[39m\u001b[38;5;124m \u001b[39m\u001b[38;5;124m\"\u001b[39m\u001b[38;5;124m.\u001b[39m\u001b[38;5;124m\"\u001b[39m\u001b[38;5;124m \u001b[39m\u001b[38;5;124m'\u001b[39m)[\u001b[38;5;241m-\u001b[39m\u001b[38;5;241m1\u001b[39m]\u001b[38;5;241m.\u001b[39mstrip(\u001b[38;5;124m'\u001b[39m\u001b[38;5;124m\"\u001b[39m\u001b[38;5;124m'\u001b[39m)\n\u001b[0;32m      5\u001b[0m     \u001b[38;5;28mprint\u001b[39m(prefix \u001b[38;5;241m+\u001b[39m folder_name)\n\u001b[0;32m      6\u001b[0m     \u001b[38;5;28;01mif\u001b[39;00m \u001b[38;5;124m'\u001b[39m\u001b[38;5;130;01m\\\\\u001b[39;00m\u001b[38;5;124mHasChildren\u001b[39m\u001b[38;5;124m'\u001b[39m \u001b[38;5;129;01min\u001b[39;00m folder\u001b[38;5;241m.\u001b[39mdecode():\n",
      "\u001b[1;31mAttributeError\u001b[0m: 'NoneType' object has no attribute 'decode'"
     ]
    }
   ],
   "source": [
    "print_folder_structure(mailbox2)"
   ]
  },
  {
   "cell_type": "code",
   "execution_count": null,
   "id": "355d1fc6",
   "metadata": {},
   "outputs": [],
   "source": [
    "from email.header import decode_header\n",
    "\n",
    "def clean_header_value(header_value):\n",
    "    if isinstance(header_value, str):\n",
    "        if '=?' in header_value:\n",
    "            decoded_header = decode_header(header_value)\n",
    "            return ''.join([str(t[0], t[1] or 'ascii') for t in decoded_header])\n",
    "        else:\n",
    "            # Remove newlines and tabs\n",
    "            header_value = re.sub(r'[\\n\\t]', '', header_value)\n",
    "\n",
    "            # Handle incomplete email addresses\n",
    "            if '@' in header_value and '.' not in header_value:\n",
    "                header_value += '.invalid'\n",
    "\n",
    "            return header_value\n",
    "    else:\n",
    "        return header_value\n"
   ]
  },
  {
   "cell_type": "code",
   "execution_count": 15,
   "id": "1c583f43",
   "metadata": {},
   "outputs": [],
   "source": [
    "def transfer_emails(src_mailbox, dest_mailbox, folder_name):\n",
    "    print(f\"Trying to select folder '{folder_name}'\")\n",
    "    try:\n",
    "        src_mailbox.select(folder_name)\n",
    "    except imaplib.IMAP4.error as e:\n",
    "        print(f\"Error selecting folder '{folder_name}': {e}\")\n",
    "        return\n",
    "\n",
    "    print(f\"Folder '{folder_name}' selected\")\n",
    "    typ, data = src_mailbox.search(None, 'ALL')\n",
    "    for num in data[0].split():\n",
    "        typ, msg_data = src_mailbox.fetch(num, '(RFC822)')\n",
    "        msg = email.message_from_bytes(msg_data[0][1])\n",
    "        dest_mailbox.append(folder_name, '', imaplib.Time2Internaldate(time.time()), msg.as_bytes())\n"
   ]
  },
  {
   "cell_type": "code",
   "execution_count": 30,
   "id": "f023f556",
   "metadata": {},
   "outputs": [],
   "source": [
    "def create_folder(mailbox, folder_name):\n",
    "    status, response = mailbox.create(folder_name)\n",
    "    if status == 'OK':\n",
    "        print(f'Successfully created folder \"{folder_name}\" in the destination mailbox.')\n",
    "        return True\n",
    "    elif b'[ALREADYEXISTS]' in response[0]:\n",
    "        print(f'Folder \"{folder_name}\" already exists in the destination mailbox.')\n",
    "        return True\n",
    "    else:\n",
    "        print(f'Failed to create folder \"{folder_name}\" in the destination mailbox. Response: {response}')\n",
    "        return False\n"
   ]
  },
  {
   "cell_type": "code",
   "execution_count": 31,
   "id": "b227e886",
   "metadata": {},
   "outputs": [],
   "source": [
    "def folder_exists(mailbox, folder_name):\n",
    "    status, response = mailbox.select(folder_name, readonly=True)\n",
    "    if status == 'OK':\n",
    "        return True\n",
    "    else:\n",
    "        return False\n"
   ]
  },
  {
   "cell_type": "code",
   "execution_count": 32,
   "id": "5863a115",
   "metadata": {},
   "outputs": [],
   "source": [
    "def find_next_folder(mailbox, parent_folder=None):\n",
    "    if parent_folder is not None:\n",
    "        search_pattern = f\"{parent_folder}.*\"\n",
    "    else:\n",
    "        search_pattern = \"*\"\n",
    "\n",
    "    typ, data = mailbox.list(directory=parent_folder, pattern=search_pattern)\n",
    "    for item in data:\n",
    "        if item:\n",
    "            folder_name = item.decode().split(' ')[-1].strip('\"')\n",
    "            if folder_name not in processed_folders:\n",
    "                return folder_name\n",
    "    return None\n"
   ]
  },
  {
   "cell_type": "code",
   "execution_count": 36,
   "id": "3ef5079f",
   "metadata": {},
   "outputs": [],
   "source": [
    "processed_folders = set()\n",
    "\n",
    "def process_folder(src_mailbox, dest_mailbox, folder, parent_folder=None):\n",
    "    # Clean up the folder name\n",
    "    full_folder_name = folder.decode().split(' ')[-1].strip('\"')\n",
    "    if parent_folder is not None:\n",
    "        full_folder_name = f\"{parent_folder}.{full_folder_name}\"\n",
    "\n",
    "    print(f\"Processing folder '{full_folder_name}'\")\n",
    "\n",
    "    # Create the folder in the destination mailbox\n",
    "    created = create_folder(dest_mailbox, full_folder_name)\n",
    "    if not created:\n",
    "        return\n",
    "\n",
    "    # Transfer emails from source to destination mailbox\n",
    "    transfer_emails(src_mailbox, dest_mailbox, full_folder_name)\n",
    "\n",
    "    processed_folders.add(full_folder_name)\n",
    "\n",
    "    # Process child folders\n",
    "    child_folder = find_next_folder(src_mailbox, full_folder_name)\n",
    "    if child_folder is not None:\n",
    "        child_folder_name = child_folder.decode().split(' ')[-1].strip('\"')\n",
    "        process_folder(src_mailbox, dest_mailbox, child_folder_name, full_folder_name)\n"
   ]
  },
  {
   "cell_type": "code",
   "execution_count": 37,
   "id": "058112d7",
   "metadata": {},
   "outputs": [
    {
     "name": "stdout",
     "output_type": "stream",
     "text": [
      "Processing folder 'Junk'\n",
      "Folder \"Junk\" already exists in the destination mailbox.\n",
      "Trying to select folder 'Junk'\n",
      "Folder 'Junk' selected\n",
      "Processing folder 'Accounts'\n",
      "Folder \"Accounts\" already exists in the destination mailbox.\n",
      "Trying to select folder 'Accounts'\n",
      "Folder 'Accounts' selected\n",
      "Processing folder 'Accounts.NVIDIA'\n",
      "Folder \"Accounts.NVIDIA\" already exists in the destination mailbox.\n",
      "Trying to select folder 'Accounts.NVIDIA'\n",
      "Folder 'Accounts.NVIDIA' selected\n",
      "Processing folder 'Accounts.Renault'\n",
      "Folder \"Accounts.Renault\" already exists in the destination mailbox.\n",
      "Trying to select folder 'Accounts.Renault'\n",
      "Folder 'Accounts.Renault' selected\n",
      "Processing folder 'Trash'\n",
      "Folder \"Trash\" already exists in the destination mailbox.\n",
      "Trying to select folder 'Trash'\n",
      "Folder 'Trash' selected\n",
      "Processing folder 'INBOX.spam'\n",
      "Folder \"INBOX.spam\" already exists in the destination mailbox.\n",
      "Trying to select folder 'INBOX.spam'\n",
      "Folder 'INBOX.spam' selected\n",
      "Processing folder 'INBOX.Drafts'\n",
      "Folder \"INBOX.Drafts\" already exists in the destination mailbox.\n",
      "Trying to select folder 'INBOX.Drafts'\n",
      "Folder 'INBOX.Drafts' selected\n",
      "Processing folder 'INBOX.Sent'\n",
      "Folder \"INBOX.Sent\" already exists in the destination mailbox.\n",
      "Trying to select folder 'INBOX.Sent'\n",
      "Folder 'INBOX.Sent' selected\n",
      "Processing folder 'INBOX.Trash'\n",
      "Folder \"INBOX.Trash\" already exists in the destination mailbox.\n",
      "Trying to select folder 'INBOX.Trash'\n",
      "Folder 'INBOX.Trash' selected\n",
      "Processing folder 'Drafts'\n",
      "Folder \"Drafts\" already exists in the destination mailbox.\n",
      "Trying to select folder 'Drafts'\n",
      "Folder 'Drafts' selected\n",
      "Processing folder 'Sent'\n",
      "Folder \"Sent\" already exists in the destination mailbox.\n",
      "Trying to select folder 'Sent'\n",
      "Folder 'Sent' selected\n",
      "Processing folder 'INBOX'\n",
      "Folder \"INBOX\" already exists in the destination mailbox.\n",
      "Trying to select folder 'INBOX'\n",
      "Folder 'INBOX' selected\n"
     ]
    }
   ],
   "source": [
    "for folder in mailbox1_folders:\n",
    "    process_folder(mailbox1, mailbox2, folder)"
   ]
  },
  {
   "cell_type": "code",
   "execution_count": null,
   "id": "3e3dc8a8",
   "metadata": {},
   "outputs": [],
   "source": []
  },
  {
   "cell_type": "code",
   "execution_count": 38,
   "id": "9a560fe7",
   "metadata": {},
   "outputs": [
    {
     "data": {
      "text/plain": [
       "('BYE', [b'Logging out'])"
      ]
     },
     "execution_count": 38,
     "metadata": {},
     "output_type": "execute_result"
    }
   ],
   "source": [
    "# Clean up\n",
    "mailbox1.logout()"
   ]
  },
  {
   "cell_type": "code",
   "execution_count": 39,
   "id": "6a6bc46a",
   "metadata": {},
   "outputs": [
    {
     "data": {
      "text/plain": [
       "('BYE', [b'Logging out'])"
      ]
     },
     "execution_count": 39,
     "metadata": {},
     "output_type": "execute_result"
    }
   ],
   "source": [
    "# Clean up\n",
    "mailbox2.logout()"
   ]
  },
  {
   "cell_type": "code",
   "execution_count": null,
   "id": "c000754c",
   "metadata": {},
   "outputs": [],
   "source": []
  }
 ],
 "metadata": {
  "kernelspec": {
   "display_name": "Python 3 (ipykernel)",
   "language": "python",
   "name": "python3"
  },
  "language_info": {
   "codemirror_mode": {
    "name": "ipython",
    "version": 3
   },
   "file_extension": ".py",
   "mimetype": "text/x-python",
   "name": "python",
   "nbconvert_exporter": "python",
   "pygments_lexer": "ipython3",
   "version": "3.8.16"
  }
 },
 "nbformat": 4,
 "nbformat_minor": 5
}
